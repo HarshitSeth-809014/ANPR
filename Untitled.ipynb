{
 "cells": [
  {
   "cell_type": "markdown",
   "id": "30bcaab6-6e0f-4e0c-ad9a-2b608e21d5d8",
   "metadata": {
    "jp-MarkdownHeadingCollapsed": true
   },
   "source": [
    "# Import"
   ]
  },
  {
   "cell_type": "code",
   "execution_count": 1,
   "id": "c5a7faa5-711d-4258-ba0f-429a958b7f4d",
   "metadata": {
    "collapsed": true,
    "jupyter": {
     "outputs_hidden": true
    }
   },
   "outputs": [
    {
     "name": "stdout",
     "output_type": "stream",
     "text": [
      "Collecting torch\n",
      "  Downloading torch-2.1.0-cp39-cp39-win_amd64.whl (192.2 MB)\n",
      "     -------------------------------------- 192.2/192.2 MB 5.4 MB/s eta 0:00:00\n",
      "Collecting torchvision\n",
      "  Downloading torchvision-0.16.0-cp39-cp39-win_amd64.whl (1.3 MB)\n",
      "     ---------------------------------------- 1.3/1.3 MB 11.4 MB/s eta 0:00:00\n",
      "Collecting torchaudio\n",
      "  Downloading torchaudio-2.1.0-cp39-cp39-win_amd64.whl (2.3 MB)\n",
      "     ---------------------------------------- 2.3/2.3 MB 11.4 MB/s eta 0:00:00\n",
      "Collecting networkx\n",
      "  Downloading networkx-3.1-py3-none-any.whl (2.1 MB)\n",
      "     ---------------------------------------- 2.1/2.1 MB 11.0 MB/s eta 0:00:00\n",
      "Collecting fsspec\n",
      "  Downloading fsspec-2023.9.2-py3-none-any.whl (173 kB)\n",
      "     ------------------------------------- 173.4/173.4 KB 10.2 MB/s eta 0:00:00\n",
      "Requirement already satisfied: typing-extensions in c:\\users\\admin\\documents\\code playground\\anpr\\venv\\lib\\site-packages (from torch) (4.8.0)\n",
      "Requirement already satisfied: jinja2 in c:\\users\\admin\\documents\\code playground\\anpr\\venv\\lib\\site-packages (from torch) (3.1.2)\n",
      "Collecting filelock\n",
      "  Downloading filelock-3.12.4-py3-none-any.whl (11 kB)\n",
      "Collecting sympy\n",
      "  Downloading sympy-1.12-py3-none-any.whl (5.7 MB)\n",
      "     ---------------------------------------- 5.7/5.7 MB 11.8 MB/s eta 0:00:00\n",
      "Collecting numpy\n",
      "  Downloading numpy-1.26.0-cp39-cp39-win_amd64.whl (15.8 MB)\n",
      "     --------------------------------------- 15.8/15.8 MB 13.4 MB/s eta 0:00:00\n",
      "Collecting pillow!=8.3.*,>=5.3.0\n",
      "  Downloading Pillow-10.0.1-cp39-cp39-win_amd64.whl (2.5 MB)\n",
      "     ---------------------------------------- 2.5/2.5 MB 13.3 MB/s eta 0:00:00\n",
      "Requirement already satisfied: requests in c:\\users\\admin\\documents\\code playground\\anpr\\venv\\lib\\site-packages (from torchvision) (2.31.0)\n",
      "Requirement already satisfied: MarkupSafe>=2.0 in c:\\users\\admin\\documents\\code playground\\anpr\\venv\\lib\\site-packages (from jinja2->torch) (2.1.3)\n",
      "Requirement already satisfied: charset-normalizer<4,>=2 in c:\\users\\admin\\documents\\code playground\\anpr\\venv\\lib\\site-packages (from requests->torchvision) (3.3.0)\n",
      "Requirement already satisfied: certifi>=2017.4.17 in c:\\users\\admin\\documents\\code playground\\anpr\\venv\\lib\\site-packages (from requests->torchvision) (2023.7.22)\n",
      "Requirement already satisfied: idna<4,>=2.5 in c:\\users\\admin\\documents\\code playground\\anpr\\venv\\lib\\site-packages (from requests->torchvision) (3.4)\n",
      "Requirement already satisfied: urllib3<3,>=1.21.1 in c:\\users\\admin\\documents\\code playground\\anpr\\venv\\lib\\site-packages (from requests->torchvision) (2.0.6)\n",
      "Collecting mpmath>=0.19\n",
      "  Downloading mpmath-1.3.0-py3-none-any.whl (536 kB)\n",
      "     ------------------------------------- 536.2/536.2 KB 17.0 MB/s eta 0:00:00\n",
      "Installing collected packages: mpmath, sympy, pillow, numpy, networkx, fsspec, filelock, torch, torchvision, torchaudio\n",
      "Successfully installed filelock-3.12.4 fsspec-2023.9.2 mpmath-1.3.0 networkx-3.1 numpy-1.26.0 pillow-10.0.1 sympy-1.12 torch-2.1.0 torchaudio-2.1.0 torchvision-0.16.0\n"
     ]
    },
    {
     "name": "stderr",
     "output_type": "stream",
     "text": [
      "WARNING: You are using pip version 22.0.4; however, version 23.2.1 is available.\n",
      "You should consider upgrading via the 'C:\\Users\\Admin\\Documents\\Code Playground\\anpr\\venv\\Scripts\\python.exe -m pip install --upgrade pip' command.\n"
     ]
    }
   ],
   "source": [
    "!pip3 install torch torchvision torchaudio"
   ]
  },
  {
   "cell_type": "code",
   "execution_count": 2,
   "id": "926882ab-27e6-4578-9d32-8def6e15794f",
   "metadata": {
    "scrolled": true
   },
   "outputs": [
    {
     "name": "stdout",
     "output_type": "stream",
     "text": [
      "Collecting easyocr\n",
      "  Downloading easyocr-1.7.1-py3-none-any.whl (2.9 MB)\n",
      "     ---------------------------------------- 2.9/2.9 MB 14.1 MB/s eta 0:00:00\n",
      "Collecting imutils\n",
      "  Downloading imutils-0.5.4.tar.gz (17 kB)\n",
      "  Preparing metadata (setup.py): started\n",
      "  Preparing metadata (setup.py): finished with status 'done'\n",
      "Requirement already satisfied: Pillow in c:\\users\\admin\\documents\\code playground\\anpr\\venv\\lib\\site-packages (from easyocr) (10.0.1)\n",
      "Collecting python-bidi\n",
      "  Using cached python_bidi-0.4.2-py2.py3-none-any.whl (30 kB)\n",
      "Collecting Shapely\n",
      "  Downloading shapely-2.0.2-cp39-cp39-win_amd64.whl (1.4 MB)\n",
      "     ---------------------------------------- 1.4/1.4 MB 23.0 MB/s eta 0:00:00\n",
      "Collecting ninja\n",
      "  Downloading ninja-1.11.1.1-py2.py3-none-win_amd64.whl (312 kB)\n",
      "     ------------------------------------- 313.0/313.0 KB 18.9 MB/s eta 0:00:00\n",
      "Requirement already satisfied: numpy in c:\\users\\admin\\documents\\code playground\\anpr\\venv\\lib\\site-packages (from easyocr) (1.26.0)\n",
      "Requirement already satisfied: torchvision>=0.5 in c:\\users\\admin\\documents\\code playground\\anpr\\venv\\lib\\site-packages (from easyocr) (0.16.0)\n",
      "Collecting scipy\n",
      "  Downloading scipy-1.11.3-cp39-cp39-win_amd64.whl (44.3 MB)\n",
      "     --------------------------------------- 44.3/44.3 MB 10.6 MB/s eta 0:00:00\n",
      "Collecting opencv-python-headless\n",
      "  Downloading opencv_python_headless-4.8.1.78-cp37-abi3-win_amd64.whl (38.0 MB)\n",
      "     --------------------------------------- 38.0/38.0 MB 10.4 MB/s eta 0:00:00\n",
      "Requirement already satisfied: torch in c:\\users\\admin\\documents\\code playground\\anpr\\venv\\lib\\site-packages (from easyocr) (2.1.0)\n",
      "Collecting scikit-image\n",
      "  Downloading scikit_image-0.22.0-cp39-cp39-win_amd64.whl (24.5 MB)\n",
      "     --------------------------------------- 24.5/24.5 MB 11.7 MB/s eta 0:00:00\n",
      "Collecting pyclipper\n",
      "  Downloading pyclipper-1.3.0.post5-cp39-cp39-win_amd64.whl (108 kB)\n",
      "     -------------------------------------- 108.6/108.6 KB 6.6 MB/s eta 0:00:00\n",
      "Requirement already satisfied: PyYAML in c:\\users\\admin\\documents\\code playground\\anpr\\venv\\lib\\site-packages (from easyocr) (6.0.1)\n",
      "Requirement already satisfied: requests in c:\\users\\admin\\documents\\code playground\\anpr\\venv\\lib\\site-packages (from torchvision>=0.5->easyocr) (2.31.0)\n",
      "Requirement already satisfied: typing-extensions in c:\\users\\admin\\documents\\code playground\\anpr\\venv\\lib\\site-packages (from torch->easyocr) (4.8.0)\n",
      "Requirement already satisfied: networkx in c:\\users\\admin\\documents\\code playground\\anpr\\venv\\lib\\site-packages (from torch->easyocr) (3.1)\n",
      "Requirement already satisfied: fsspec in c:\\users\\admin\\documents\\code playground\\anpr\\venv\\lib\\site-packages (from torch->easyocr) (2023.9.2)\n",
      "Requirement already satisfied: sympy in c:\\users\\admin\\documents\\code playground\\anpr\\venv\\lib\\site-packages (from torch->easyocr) (1.12)\n",
      "Requirement already satisfied: filelock in c:\\users\\admin\\documents\\code playground\\anpr\\venv\\lib\\site-packages (from torch->easyocr) (3.12.4)\n",
      "Requirement already satisfied: jinja2 in c:\\users\\admin\\documents\\code playground\\anpr\\venv\\lib\\site-packages (from torch->easyocr) (3.1.2)\n",
      "Requirement already satisfied: six in c:\\users\\admin\\documents\\code playground\\anpr\\venv\\lib\\site-packages (from python-bidi->easyocr) (1.16.0)\n",
      "Collecting tifffile>=2022.8.12\n",
      "  Downloading tifffile-2023.9.26-py3-none-any.whl (222 kB)\n",
      "     ---------------------------------------- 222.9/222.9 KB ? eta 0:00:00\n",
      "Collecting lazy_loader>=0.3\n",
      "  Downloading lazy_loader-0.3-py3-none-any.whl (9.1 kB)\n",
      "Requirement already satisfied: packaging>=21 in c:\\users\\admin\\documents\\code playground\\anpr\\venv\\lib\\site-packages (from scikit-image->easyocr) (23.2)\n",
      "Collecting imageio>=2.27\n",
      "  Downloading imageio-2.31.5-py3-none-any.whl (313 kB)\n",
      "     ------------------------------------- 313.2/313.2 KB 20.2 MB/s eta 0:00:00\n",
      "Requirement already satisfied: MarkupSafe>=2.0 in c:\\users\\admin\\documents\\code playground\\anpr\\venv\\lib\\site-packages (from jinja2->torch->easyocr) (2.1.3)\n",
      "Requirement already satisfied: charset-normalizer<4,>=2 in c:\\users\\admin\\documents\\code playground\\anpr\\venv\\lib\\site-packages (from requests->torchvision>=0.5->easyocr) (3.3.0)\n",
      "Requirement already satisfied: idna<4,>=2.5 in c:\\users\\admin\\documents\\code playground\\anpr\\venv\\lib\\site-packages (from requests->torchvision>=0.5->easyocr) (3.4)\n",
      "Requirement already satisfied: urllib3<3,>=1.21.1 in c:\\users\\admin\\documents\\code playground\\anpr\\venv\\lib\\site-packages (from requests->torchvision>=0.5->easyocr) (2.0.6)\n",
      "Requirement already satisfied: certifi>=2017.4.17 in c:\\users\\admin\\documents\\code playground\\anpr\\venv\\lib\\site-packages (from requests->torchvision>=0.5->easyocr) (2023.7.22)\n",
      "Requirement already satisfied: mpmath>=0.19 in c:\\users\\admin\\documents\\code playground\\anpr\\venv\\lib\\site-packages (from sympy->torch->easyocr) (1.3.0)\n",
      "Using legacy 'setup.py install' for imutils, since package 'wheel' is not installed.\n",
      "Installing collected packages: pyclipper, ninja, imutils, tifffile, Shapely, scipy, python-bidi, opencv-python-headless, lazy_loader, imageio, scikit-image, easyocr\n",
      "  Running setup.py install for imutils: started\n",
      "  Running setup.py install for imutils: finished with status 'done'\n",
      "Successfully installed Shapely-2.0.2 easyocr-1.7.1 imageio-2.31.5 imutils-0.5.4 lazy_loader-0.3 ninja-1.11.1.1 opencv-python-headless-4.8.1.78 pyclipper-1.3.0.post5 python-bidi-0.4.2 scikit-image-0.22.0 scipy-1.11.3 tifffile-2023.9.26\n"
     ]
    },
    {
     "name": "stderr",
     "output_type": "stream",
     "text": [
      "WARNING: You are using pip version 22.0.4; however, version 23.2.1 is available.\n",
      "You should consider upgrading via the 'C:\\Users\\Admin\\Documents\\Code Playground\\anpr\\venv\\Scripts\\python.exe -m pip install --upgrade pip' command.\n"
     ]
    }
   ],
   "source": [
    "%pip install easyocr imutils"
   ]
  },
  {
   "cell_type": "code",
   "execution_count": 4,
   "id": "a667c6c1-dc67-4fa6-9d23-e2471cc38c0b",
   "metadata": {},
   "outputs": [
    {
     "name": "stdout",
     "output_type": "stream",
     "text": [
      "Collecting matplotlib\n",
      "  Downloading matplotlib-3.8.0-cp39-cp39-win_amd64.whl (7.6 MB)\n",
      "     ---------------------------------------- 7.6/7.6 MB 14.4 MB/s eta 0:00:00\n",
      "Collecting importlib-resources>=3.2.0\n",
      "  Downloading importlib_resources-6.1.0-py3-none-any.whl (33 kB)\n",
      "Collecting kiwisolver>=1.0.1\n",
      "  Downloading kiwisolver-1.4.5-cp39-cp39-win_amd64.whl (56 kB)\n",
      "     ---------------------------------------- 56.2/56.2 KB 2.9 MB/s eta 0:00:00\n",
      "Collecting pyparsing>=2.3.1\n",
      "  Using cached pyparsing-3.1.1-py3-none-any.whl (103 kB)\n",
      "Requirement already satisfied: numpy<2,>=1.21 in c:\\users\\admin\\documents\\code playground\\anpr\\venv\\lib\\site-packages (from matplotlib) (1.26.0)\n",
      "Requirement already satisfied: python-dateutil>=2.7 in c:\\users\\admin\\documents\\code playground\\anpr\\venv\\lib\\site-packages (from matplotlib) (2.8.2)\n",
      "Requirement already satisfied: packaging>=20.0 in c:\\users\\admin\\documents\\code playground\\anpr\\venv\\lib\\site-packages (from matplotlib) (23.2)\n",
      "Collecting contourpy>=1.0.1\n",
      "  Downloading contourpy-1.1.1-cp39-cp39-win_amd64.whl (435 kB)\n",
      "     -------------------------------------- 436.0/436.0 KB 9.1 MB/s eta 0:00:00\n",
      "Collecting fonttools>=4.22.0\n",
      "  Downloading fonttools-4.43.1-cp39-cp39-win_amd64.whl (2.1 MB)\n",
      "     ---------------------------------------- 2.1/2.1 MB 8.0 MB/s eta 0:00:00\n",
      "Requirement already satisfied: pillow>=6.2.0 in c:\\users\\admin\\documents\\code playground\\anpr\\venv\\lib\\site-packages (from matplotlib) (10.0.1)\n",
      "Collecting cycler>=0.10\n",
      "  Downloading cycler-0.12.1-py3-none-any.whl (8.3 kB)\n",
      "Requirement already satisfied: zipp>=3.1.0 in c:\\users\\admin\\documents\\code playground\\anpr\\venv\\lib\\site-packages (from importlib-resources>=3.2.0->matplotlib) (3.17.0)\n",
      "Requirement already satisfied: six>=1.5 in c:\\users\\admin\\documents\\code playground\\anpr\\venv\\lib\\site-packages (from python-dateutil>=2.7->matplotlib) (1.16.0)\n",
      "Installing collected packages: pyparsing, kiwisolver, importlib-resources, fonttools, cycler, contourpy, matplotlib\n",
      "Successfully installed contourpy-1.1.1 cycler-0.12.1 fonttools-4.43.1 importlib-resources-6.1.0 kiwisolver-1.4.5 matplotlib-3.8.0 pyparsing-3.1.1\n"
     ]
    },
    {
     "name": "stderr",
     "output_type": "stream",
     "text": [
      "WARNING: You are using pip version 22.0.4; however, version 23.2.1 is available.\n",
      "You should consider upgrading via the 'C:\\Users\\Admin\\Documents\\Code Playground\\anpr\\venv\\Scripts\\python.exe -m pip install --upgrade pip' command.\n"
     ]
    }
   ],
   "source": [
    "%pip install matplotlib"
   ]
  },
  {
   "cell_type": "code",
   "execution_count": 1,
   "id": "e5c341ff-f2cf-4d6f-bf56-2d693760eaaf",
   "metadata": {},
   "outputs": [],
   "source": [
    "import cv2\n",
    "from matplotlib import pyplot as plt\n",
    "import numpy as np\n",
    "import easyocr\n",
    "import imutils"
   ]
  },
  {
   "cell_type": "markdown",
   "id": "7c6379c7-75e6-4b92-bde3-a7398cc2e424",
   "metadata": {},
   "source": [
    "# Read Image"
   ]
  },
  {
   "cell_type": "code",
   "execution_count": 53,
   "id": "6ba1c6de-e893-422a-a3b9-5a5754eb0be2",
   "metadata": {},
   "outputs": [],
   "source": [
    "def take_photo(): \n",
    "    cap = cv2.VideoCapture(0)\n",
    "    ret, frame = cap.read()\n",
    "    cv2.imwrite('webcamphoto.jpg', frame)\n",
    "    cap.release()"
   ]
  },
  {
   "cell_type": "code",
   "execution_count": 6,
   "id": "89dc6a02-ac14-4219-95d4-49dc3e8ce6e0",
   "metadata": {},
   "outputs": [],
   "source": [
    "def get_num(gray):\n",
    "    bfilter = cv2.bilateralFilter(gray, 11, 17, 17) #Noise reduction\n",
    "    edged = cv2.Canny(bfilter, 30, 200) #Edge detection\n",
    "\n",
    "    keypoints = cv2.findContours(edged.copy(), cv2.RETR_TREE, cv2.CHAIN_APPROX_SIMPLE)\n",
    "    contours = imutils.grab_contours(keypoints)\n",
    "    contours = sorted(contours, key=cv2.contourArea, reverse=True)[:10]\n",
    "\n",
    "    location = None\n",
    "    for contour in contours:\n",
    "        approx = cv2.approxPolyDP(contour, 10, True)\n",
    "        if len(approx) == 4:\n",
    "            location = approx\n",
    "            break\n",
    "\n",
    "    mask = np.zeros(gray.shape, np.uint8)\n",
    "    new_image = cv2.drawContours(mask, [location], 0,255, -1)\n",
    "    new_image = cv2.bitwise_and(img, img, mask=mask)\n",
    "\n",
    "    (x,y) = np.where(mask==255)\n",
    "    (x1, y1) = (np.min(x), np.min(y))\n",
    "    (x2, y2) = (np.max(x), np.max(y))\n",
    "    cropped_image = gray[x1:x2+1, y1:y2+1]\n",
    "\n",
    "    reader = easyocr.Reader(['en'])\n",
    "    result = reader.readtext(cropped_image)\n",
    "\n",
    "    return result"
   ]
  },
  {
   "cell_type": "code",
   "execution_count": 54,
   "id": "5e2676be-4c07-41a0-859d-4e6460ed12de",
   "metadata": {
    "scrolled": true
   },
   "outputs": [],
   "source": [
    "take_photo()"
   ]
  },
  {
   "cell_type": "code",
   "execution_count": 7,
   "id": "8d366d69-ecc3-4aa0-ae54-5b47c78a1c03",
   "metadata": {
    "scrolled": true
   },
   "outputs": [
    {
     "name": "stderr",
     "output_type": "stream",
     "text": [
      "Neither CUDA nor MPS are available - defaulting to CPU. Note: This module is much faster with a GPU.\n"
     ]
    },
    {
     "data": {
      "text/plain": [
       "[([[0, 2], [107, 2], [107, 31], [0, 31]], 'EBJY. 982]', 0.3741937983327902)]"
      ]
     },
     "execution_count": 7,
     "metadata": {},
     "output_type": "execute_result"
    }
   ],
   "source": [
    "img = cv2.imread('image3.jpg')\n",
    "gray =  cv2.cvtColor(img, cv2.COLOR_BGR2GRAY);\n",
    "get_num(gray)"
   ]
  }
 ],
 "metadata": {
  "kernelspec": {
   "display_name": "anprn",
   "language": "python",
   "name": "anprn"
  },
  "language_info": {
   "codemirror_mode": {
    "name": "ipython",
    "version": 3
   },
   "file_extension": ".py",
   "mimetype": "text/x-python",
   "name": "python",
   "nbconvert_exporter": "python",
   "pygments_lexer": "ipython3",
   "version": "3.9.13"
  }
 },
 "nbformat": 4,
 "nbformat_minor": 5
}
